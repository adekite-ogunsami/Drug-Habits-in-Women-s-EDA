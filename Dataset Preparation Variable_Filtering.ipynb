{
 "cells": [
  {
   "cell_type": "code",
   "execution_count": 2,
   "id": "79529d07",
   "metadata": {},
   "outputs": [],
   "source": [
    "import pandas as pd\n",
    "import numpy as np\n",
    "import matplotlib.pyplot as plt\n",
    "import seaborn as sns\n",
    "import plotly.express as px\n",
    "import plotly.graph_objects as go\n",
    "import scipy.stats as stats\n",
    "from sklearn.preprocessing import StandardScaler\n",
    "from sklearn.model_selection import train_test_split\n",
    "import gc\n",
    "import dask.dataframe as dd "
   ]
  },
  {
   "cell_type": "code",
   "execution_count": 3,
   "id": "16dbf76e",
   "metadata": {},
   "outputs": [],
   "source": [
    "womens_df = dd.read_csv(r\"C:\\Users\\zanny\\Desktop\\School\\NCAIR Cohort\\Data Science Beginners\\Project\\National Survey of Drug Use and Health\\Dataset Splits\\women_project_dataset.csv\",\n",
    "    assume_missing=True,\n",
    "    low_memory=False,\n",
    "    dtype={'gqtype2': 'object'})"
   ]
  },
  {
   "cell_type": "code",
   "execution_count": 17,
   "id": "b41c8bdf",
   "metadata": {},
   "outputs": [],
   "source": [
    "columns_to_keep = [\n",
    "    # Demographics\n",
    "    'age2',\n",
    "    'eduhighcat',\n",
    "    'irwrkstat',\n",
    "    'irmaritstat',\n",
    "\n",
    "    # Family/Parental Structure\n",
    "    'imother',\n",
    "    'ifather',\n",
    "    'irhhsiz2',\n",
    "\n",
    "    # Social & Peer Influence\n",
    "    'frdmjmon',\n",
    "    'talkprob',\n",
    "\n",
    "    # Socioeconomic Factors\n",
    "    'govtprog',\n",
    "    'income',\n",
    "    'poverty3',\n",
    "\n",
    "    # Marijuana Use\n",
    "    'mjever',\n",
    "    'mjage',\n",
    "    'mjday30a',\n",
    "    'mjrec',\n",
    "    'mjyrtot',\n",
    "    'mjonlyflag',\n",
    "    'mjonlyyr',\n",
    "    'mjprior',\n",
    "    'mjpriyr',\n",
    "\n",
    "    # Alcohol Use\n",
    "    'alcflag',\n",
    "    'alcmon',\n",
    "    'alcyr',\n",
    "    'alcever',\n",
    "    'alcydays',\n",
    "    'alcmfu',\n",
    "    'alcbng30d',\n",
    "    'alclimit',\n",
    "    'alcpdang',\n",
    "    'drvinalco',\n",
    "\n",
    "    # Treatment\n",
    "    'txyralc',\n",
    "    'txalconly'\n",
    "]\n"
   ]
  },
  {
   "cell_type": "code",
   "execution_count": 18,
   "id": "029fde7f",
   "metadata": {},
   "outputs": [],
   "source": [
    "filtered_df = womens_df[columns_to_keep]"
   ]
  },
  {
   "cell_type": "code",
   "execution_count": 14,
   "id": "ccacf069",
   "metadata": {},
   "outputs": [
    {
     "data": {
      "text/plain": [
       "['auinmedu',\n",
       " 'anyeduc3',\n",
       " 'ireduhighst2',\n",
       " 'iieduhighst2',\n",
       " 'eduhighcat',\n",
       " 'eduenroll',\n",
       " 'edugrdnow2',\n",
       " 'edufulprt',\n",
       " 'edusickmo',\n",
       " 'eduskipmo',\n",
       " 'wrkdrgedu',\n",
       " 'eduschlgo',\n",
       " 'eduschgrd2',\n",
       " 'edufulpar',\n",
       " 'edusckmon',\n",
       " 'eduskpmon',\n",
       " 'edusckest',\n",
       " 'edusckcom',\n",
       " 'eduskpest',\n",
       " 'eduskpcom']"
      ]
     },
     "execution_count": 14,
     "metadata": {},
     "output_type": "execute_result"
    }
   ],
   "source": [
    "[col for col in womens_df.columns if 'edu' in col.lower()]"
   ]
  },
  {
   "cell_type": "code",
   "execution_count": 15,
   "id": "8f7c506d",
   "metadata": {},
   "outputs": [
    {
     "data": {
      "text/plain": [
       "['aupinemp',\n",
       " 'aupopemp',\n",
       " 'mhpdemp2',\n",
       " 'yeschwrk',\n",
       " 'adsocwrk',\n",
       " 'asdswrk2',\n",
       " 'yosocwrk',\n",
       " 'ysdswrk',\n",
       " 'wrkstatwk2',\n",
       " 'wrkdpstwk',\n",
       " 'wrkhadjob',\n",
       " 'wrkdhrswk2',\n",
       " 'wrk35wkus',\n",
       " 'wrkrsnnot',\n",
       " 'wrkrsnjob',\n",
       " 'wrkeffort',\n",
       " 'wrkdpstyr',\n",
       " 'wrkselfem',\n",
       " 'wrknumjob2',\n",
       " 'wrknjbpyr',\n",
       " 'wrknjbwks',\n",
       " 'wrklastyr2',\n",
       " 'wrksickmo',\n",
       " 'wrkskipmo',\n",
       " 'wrkdrgpol',\n",
       " 'wrkdrgalb',\n",
       " 'wrkdrgedu',\n",
       " 'wrkdrghlp',\n",
       " 'wrktstalc',\n",
       " 'wrktstdrg',\n",
       " 'wrktsthir',\n",
       " 'wrktstrdm',\n",
       " 'wrktst1st',\n",
       " 'wrkokpreh',\n",
       " 'wrkokrand',\n",
       " 'irwrkstat',\n",
       " 'iiwrkstat',\n",
       " 'ii2wrkstat',\n",
       " 'irwrkstat18',\n",
       " 'iiwrkstat18',\n",
       " 'ii2wrkst18',\n",
       " 'cellwrkng']"
      ]
     },
     "execution_count": 15,
     "metadata": {},
     "output_type": "execute_result"
    }
   ],
   "source": [
    "[col for col in womens_df.columns if 'wrk' in col.lower() or 'emp' in col.lower()]"
   ]
  },
  {
   "cell_type": "code",
   "execution_count": 16,
   "id": "02706759",
   "metadata": {},
   "outputs": [
    {
     "data": {
      "text/plain": [
       "['feltmarkr',\n",
       " 'feltmarkr2',\n",
       " 'cadrkmarj',\n",
       " 'cadrkmarj2',\n",
       " 'irmaritstat',\n",
       " 'iimaritstat',\n",
       " 'mariednum2',\n",
       " 'drvinmarj',\n",
       " 'drvinmarj2',\n",
       " 'nomarr2',\n",
       " 'irmarit',\n",
       " 'iimarit']"
      ]
     },
     "execution_count": 16,
     "metadata": {},
     "output_type": "execute_result"
    }
   ],
   "source": [
    "[col for col in womens_df.columns if 'mar' in col.lower()]"
   ]
  },
  {
   "cell_type": "code",
   "execution_count": 19,
   "id": "5765a239",
   "metadata": {},
   "outputs": [],
   "source": [
    "filtered_df.compute().to_csv(r\"C:\\Users\\zanny\\Desktop\\women_project_dataset.csv\", index=False)"
   ]
  }
 ],
 "metadata": {
  "kernelspec": {
   "display_name": "base",
   "language": "python",
   "name": "python3"
  },
  "language_info": {
   "codemirror_mode": {
    "name": "ipython",
    "version": 3
   },
   "file_extension": ".py",
   "mimetype": "text/x-python",
   "name": "python",
   "nbconvert_exporter": "python",
   "pygments_lexer": "ipython3",
   "version": "3.12.4"
  }
 },
 "nbformat": 4,
 "nbformat_minor": 5
}
